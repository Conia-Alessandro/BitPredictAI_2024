{
 "cells": [
  {
   "cell_type": "markdown",
   "metadata": {},
   "source": [
    "## AI Cw Initial"
   ]
  },
  {
   "cell_type": "code",
   "execution_count": 1,
   "metadata": {},
   "outputs": [],
   "source": [
    "import pandas as pd"
   ]
  },
  {
   "cell_type": "code",
   "execution_count": 2,
   "metadata": {},
   "outputs": [],
   "source": [
    "import numpy as np\n",
    "import matplotlib.pyplot as plt\n",
    "from sklearn.model_selection import train_test_split"
   ]
  },
  {
   "cell_type": "code",
   "execution_count": 20,
   "metadata": {},
   "outputs": [],
   "source": [
    "df = pd.read_csv(r'./btc-usd-max.csv', index_col='snapped_at')"
   ]
  },
  {
   "cell_type": "code",
   "execution_count": 21,
   "metadata": {},
   "outputs": [
    {
     "data": {
      "text/html": [
       "<div>\n",
       "<style scoped>\n",
       "    .dataframe tbody tr th:only-of-type {\n",
       "        vertical-align: middle;\n",
       "    }\n",
       "\n",
       "    .dataframe tbody tr th {\n",
       "        vertical-align: top;\n",
       "    }\n",
       "\n",
       "    .dataframe thead th {\n",
       "        text-align: right;\n",
       "    }\n",
       "</style>\n",
       "<table border=\"1\" class=\"dataframe\">\n",
       "  <thead>\n",
       "    <tr style=\"text-align: right;\">\n",
       "      <th></th>\n",
       "      <th>price</th>\n",
       "      <th>market_cap</th>\n",
       "      <th>total_volume</th>\n",
       "    </tr>\n",
       "    <tr>\n",
       "      <th>snapped_at</th>\n",
       "      <th></th>\n",
       "      <th></th>\n",
       "      <th></th>\n",
       "    </tr>\n",
       "  </thead>\n",
       "  <tbody>\n",
       "    <tr>\n",
       "      <th>2013-04-28 00:00:00 UTC</th>\n",
       "      <td>135.30</td>\n",
       "      <td>1.500518e+09</td>\n",
       "      <td>0.0</td>\n",
       "    </tr>\n",
       "    <tr>\n",
       "      <th>2013-04-29 00:00:00 UTC</th>\n",
       "      <td>141.96</td>\n",
       "      <td>1.575032e+09</td>\n",
       "      <td>0.0</td>\n",
       "    </tr>\n",
       "    <tr>\n",
       "      <th>2013-04-30 00:00:00 UTC</th>\n",
       "      <td>135.30</td>\n",
       "      <td>1.501657e+09</td>\n",
       "      <td>0.0</td>\n",
       "    </tr>\n",
       "    <tr>\n",
       "      <th>2013-05-01 00:00:00 UTC</th>\n",
       "      <td>117.00</td>\n",
       "      <td>1.298952e+09</td>\n",
       "      <td>0.0</td>\n",
       "    </tr>\n",
       "    <tr>\n",
       "      <th>2013-05-02 00:00:00 UTC</th>\n",
       "      <td>103.43</td>\n",
       "      <td>1.148668e+09</td>\n",
       "      <td>0.0</td>\n",
       "    </tr>\n",
       "  </tbody>\n",
       "</table>\n",
       "</div>"
      ],
      "text/plain": [
       "                          price    market_cap  total_volume\n",
       "snapped_at                                                 \n",
       "2013-04-28 00:00:00 UTC  135.30  1.500518e+09           0.0\n",
       "2013-04-29 00:00:00 UTC  141.96  1.575032e+09           0.0\n",
       "2013-04-30 00:00:00 UTC  135.30  1.501657e+09           0.0\n",
       "2013-05-01 00:00:00 UTC  117.00  1.298952e+09           0.0\n",
       "2013-05-02 00:00:00 UTC  103.43  1.148668e+09           0.0"
      ]
     },
     "execution_count": 21,
     "metadata": {},
     "output_type": "execute_result"
    }
   ],
   "source": [
    "df.head()"
   ]
  },
  {
   "cell_type": "code",
   "execution_count": 22,
   "metadata": {},
   "outputs": [
    {
     "data": {
      "text/html": [
       "<div>\n",
       "<style scoped>\n",
       "    .dataframe tbody tr th:only-of-type {\n",
       "        vertical-align: middle;\n",
       "    }\n",
       "\n",
       "    .dataframe tbody tr th {\n",
       "        vertical-align: top;\n",
       "    }\n",
       "\n",
       "    .dataframe thead th {\n",
       "        text-align: right;\n",
       "    }\n",
       "</style>\n",
       "<table border=\"1\" class=\"dataframe\">\n",
       "  <thead>\n",
       "    <tr style=\"text-align: right;\">\n",
       "      <th></th>\n",
       "      <th>price</th>\n",
       "      <th>market_cap</th>\n",
       "      <th>total_volume</th>\n",
       "    </tr>\n",
       "    <tr>\n",
       "      <th>snapped_at</th>\n",
       "      <th></th>\n",
       "      <th></th>\n",
       "      <th></th>\n",
       "    </tr>\n",
       "  </thead>\n",
       "  <tbody>\n",
       "    <tr>\n",
       "      <th>2024-03-10 00:00:00 UTC</th>\n",
       "      <td>68508.003963</td>\n",
       "      <td>1.346027e+12</td>\n",
       "      <td>2.135971e+10</td>\n",
       "    </tr>\n",
       "    <tr>\n",
       "      <th>2024-03-11 00:00:00 UTC</th>\n",
       "      <td>69075.666882</td>\n",
       "      <td>1.357390e+12</td>\n",
       "      <td>3.666054e+10</td>\n",
       "    </tr>\n",
       "    <tr>\n",
       "      <th>2024-03-12 00:00:00 UTC</th>\n",
       "      <td>72130.553008</td>\n",
       "      <td>1.417773e+12</td>\n",
       "      <td>6.665307e+10</td>\n",
       "    </tr>\n",
       "    <tr>\n",
       "      <th>2024-03-13 00:00:00 UTC</th>\n",
       "      <td>71467.173503</td>\n",
       "      <td>1.403693e+12</td>\n",
       "      <td>6.459934e+10</td>\n",
       "    </tr>\n",
       "    <tr>\n",
       "      <th>2024-03-14 00:00:00 UTC</th>\n",
       "      <td>73097.767027</td>\n",
       "      <td>1.436631e+12</td>\n",
       "      <td>5.190660e+10</td>\n",
       "    </tr>\n",
       "  </tbody>\n",
       "</table>\n",
       "</div>"
      ],
      "text/plain": [
       "                                price    market_cap  total_volume\n",
       "snapped_at                                                       \n",
       "2024-03-10 00:00:00 UTC  68508.003963  1.346027e+12  2.135971e+10\n",
       "2024-03-11 00:00:00 UTC  69075.666882  1.357390e+12  3.666054e+10\n",
       "2024-03-12 00:00:00 UTC  72130.553008  1.417773e+12  6.665307e+10\n",
       "2024-03-13 00:00:00 UTC  71467.173503  1.403693e+12  6.459934e+10\n",
       "2024-03-14 00:00:00 UTC  73097.767027  1.436631e+12  5.190660e+10"
      ]
     },
     "execution_count": 22,
     "metadata": {},
     "output_type": "execute_result"
    }
   ],
   "source": [
    "df.tail()"
   ]
  },
  {
   "cell_type": "code",
   "execution_count": 23,
   "metadata": {},
   "outputs": [
    {
     "data": {
      "text/plain": [
       "(3972, 3)"
      ]
     },
     "execution_count": 23,
     "metadata": {},
     "output_type": "execute_result"
    }
   ],
   "source": [
    "df.shape"
   ]
  },
  {
   "cell_type": "code",
   "execution_count": 24,
   "metadata": {},
   "outputs": [
    {
     "name": "stdout",
     "output_type": "stream",
     "text": [
      "duplicated Rows  (0, 3)\n"
     ]
    }
   ],
   "source": [
    "# check duplicate rows\n",
    "\n",
    "df_duplicate = df[df.duplicated()]\n",
    "\n",
    "print(\"duplicated Rows \",df_duplicate.shape)"
   ]
  },
  {
   "cell_type": "code",
   "execution_count": 25,
   "metadata": {},
   "outputs": [
    {
     "name": "stdout",
     "output_type": "stream",
     "text": [
      "price           0\n",
      "market_cap      1\n",
      "total_volume    0\n",
      "dtype: int64\n"
     ]
    }
   ],
   "source": [
    "#null vals\n",
    "\n",
    "print(df.isnull().sum())"
   ]
  },
  {
   "cell_type": "code",
   "execution_count": 12,
   "metadata": {},
   "outputs": [],
   "source": [
    "# remove null market_cap"
   ]
  },
  {
   "cell_type": "code",
   "execution_count": 40,
   "metadata": {},
   "outputs": [
    {
     "name": "stdout",
     "output_type": "stream",
     "text": [
      "Empty DataFrame\n",
      "Columns: [price, market_cap, total_volume]\n",
      "Index: []\n"
     ]
    }
   ],
   "source": [
    "# display row with null values before removing them\n",
    "print(df[df.isnull().any(axis=1)])"
   ]
  },
  {
   "cell_type": "code",
   "execution_count": 38,
   "metadata": {},
   "outputs": [],
   "source": [
    "# drop null values in specified column\n",
    "df.dropna(subset=['market_cap'],inplace=True)"
   ]
  },
  {
   "cell_type": "code",
   "execution_count": 42,
   "metadata": {},
   "outputs": [
    {
     "name": "stdout",
     "output_type": "stream",
     "text": [
      "price           0\n",
      "market_cap      0\n",
      "total_volume    0\n",
      "value           3\n",
      "dtype: int64\n"
     ]
    }
   ],
   "source": [
    "# check now if you got null values\n",
    "print(df.isnull().sum())"
   ]
  },
  {
   "cell_type": "code",
   "execution_count": 43,
   "metadata": {},
   "outputs": [
    {
     "data": {
      "text/html": [
       "<div>\n",
       "<style scoped>\n",
       "    .dataframe tbody tr th:only-of-type {\n",
       "        vertical-align: middle;\n",
       "    }\n",
       "\n",
       "    .dataframe tbody tr th {\n",
       "        vertical-align: top;\n",
       "    }\n",
       "\n",
       "    .dataframe thead th {\n",
       "        text-align: right;\n",
       "    }\n",
       "</style>\n",
       "<table border=\"1\" class=\"dataframe\">\n",
       "  <thead>\n",
       "    <tr style=\"text-align: right;\">\n",
       "      <th></th>\n",
       "      <th>price</th>\n",
       "      <th>market_cap</th>\n",
       "      <th>total_volume</th>\n",
       "    </tr>\n",
       "    <tr>\n",
       "      <th>snapped_at</th>\n",
       "      <th></th>\n",
       "      <th></th>\n",
       "      <th></th>\n",
       "    </tr>\n",
       "  </thead>\n",
       "  <tbody>\n",
       "    <tr>\n",
       "      <th>2013-04-28 00:00:00 UTC</th>\n",
       "      <td>135.300000</td>\n",
       "      <td>1.500518e+09</td>\n",
       "      <td>0.000000e+00</td>\n",
       "    </tr>\n",
       "    <tr>\n",
       "      <th>2013-04-29 00:00:00 UTC</th>\n",
       "      <td>141.960000</td>\n",
       "      <td>1.575032e+09</td>\n",
       "      <td>0.000000e+00</td>\n",
       "    </tr>\n",
       "    <tr>\n",
       "      <th>2013-04-30 00:00:00 UTC</th>\n",
       "      <td>135.300000</td>\n",
       "      <td>1.501657e+09</td>\n",
       "      <td>0.000000e+00</td>\n",
       "    </tr>\n",
       "    <tr>\n",
       "      <th>2013-05-01 00:00:00 UTC</th>\n",
       "      <td>117.000000</td>\n",
       "      <td>1.298952e+09</td>\n",
       "      <td>0.000000e+00</td>\n",
       "    </tr>\n",
       "    <tr>\n",
       "      <th>2013-05-02 00:00:00 UTC</th>\n",
       "      <td>103.430000</td>\n",
       "      <td>1.148668e+09</td>\n",
       "      <td>0.000000e+00</td>\n",
       "    </tr>\n",
       "    <tr>\n",
       "      <th>...</th>\n",
       "      <td>...</td>\n",
       "      <td>...</td>\n",
       "      <td>...</td>\n",
       "    </tr>\n",
       "    <tr>\n",
       "      <th>2024-03-10 00:00:00 UTC</th>\n",
       "      <td>68508.003963</td>\n",
       "      <td>1.346027e+12</td>\n",
       "      <td>2.135971e+10</td>\n",
       "    </tr>\n",
       "    <tr>\n",
       "      <th>2024-03-11 00:00:00 UTC</th>\n",
       "      <td>69075.666882</td>\n",
       "      <td>1.357390e+12</td>\n",
       "      <td>3.666054e+10</td>\n",
       "    </tr>\n",
       "    <tr>\n",
       "      <th>2024-03-12 00:00:00 UTC</th>\n",
       "      <td>72130.553008</td>\n",
       "      <td>1.417773e+12</td>\n",
       "      <td>6.665307e+10</td>\n",
       "    </tr>\n",
       "    <tr>\n",
       "      <th>2024-03-13 00:00:00 UTC</th>\n",
       "      <td>71467.173503</td>\n",
       "      <td>1.403693e+12</td>\n",
       "      <td>6.459934e+10</td>\n",
       "    </tr>\n",
       "    <tr>\n",
       "      <th>2024-03-14 00:00:00 UTC</th>\n",
       "      <td>73097.767027</td>\n",
       "      <td>1.436631e+12</td>\n",
       "      <td>5.190660e+10</td>\n",
       "    </tr>\n",
       "  </tbody>\n",
       "</table>\n",
       "<p>3971 rows × 3 columns</p>\n",
       "</div>"
      ],
      "text/plain": [
       "                                price    market_cap  total_volume\n",
       "snapped_at                                                       \n",
       "2013-04-28 00:00:00 UTC    135.300000  1.500518e+09  0.000000e+00\n",
       "2013-04-29 00:00:00 UTC    141.960000  1.575032e+09  0.000000e+00\n",
       "2013-04-30 00:00:00 UTC    135.300000  1.501657e+09  0.000000e+00\n",
       "2013-05-01 00:00:00 UTC    117.000000  1.298952e+09  0.000000e+00\n",
       "2013-05-02 00:00:00 UTC    103.430000  1.148668e+09  0.000000e+00\n",
       "...                               ...           ...           ...\n",
       "2024-03-10 00:00:00 UTC  68508.003963  1.346027e+12  2.135971e+10\n",
       "2024-03-11 00:00:00 UTC  69075.666882  1.357390e+12  3.666054e+10\n",
       "2024-03-12 00:00:00 UTC  72130.553008  1.417773e+12  6.665307e+10\n",
       "2024-03-13 00:00:00 UTC  71467.173503  1.403693e+12  6.459934e+10\n",
       "2024-03-14 00:00:00 UTC  73097.767027  1.436631e+12  5.190660e+10\n",
       "\n",
       "[3971 rows x 3 columns]"
      ]
     },
     "execution_count": 43,
     "metadata": {},
     "output_type": "execute_result"
    }
   ],
   "source": [
    "# drop if necessary\n",
    "df.drop(columns=['value'])"
   ]
  },
  {
   "cell_type": "code",
   "execution_count": 28,
   "metadata": {},
   "outputs": [
    {
     "data": {
      "text/html": [
       "<div>\n",
       "<style scoped>\n",
       "    .dataframe tbody tr th:only-of-type {\n",
       "        vertical-align: middle;\n",
       "    }\n",
       "\n",
       "    .dataframe tbody tr th {\n",
       "        vertical-align: top;\n",
       "    }\n",
       "\n",
       "    .dataframe thead th {\n",
       "        text-align: right;\n",
       "    }\n",
       "</style>\n",
       "<table border=\"1\" class=\"dataframe\">\n",
       "  <thead>\n",
       "    <tr style=\"text-align: right;\">\n",
       "      <th></th>\n",
       "      <th>price</th>\n",
       "      <th>market_cap</th>\n",
       "      <th>total_volume</th>\n",
       "    </tr>\n",
       "  </thead>\n",
       "  <tbody>\n",
       "    <tr>\n",
       "      <th>count</th>\n",
       "      <td>3971.000000</td>\n",
       "      <td>3.971000e+03</td>\n",
       "      <td>3.971000e+03</td>\n",
       "    </tr>\n",
       "    <tr>\n",
       "      <th>mean</th>\n",
       "      <td>13443.291219</td>\n",
       "      <td>2.519189e+11</td>\n",
       "      <td>1.448109e+10</td>\n",
       "    </tr>\n",
       "    <tr>\n",
       "      <th>std</th>\n",
       "      <td>16533.602750</td>\n",
       "      <td>3.161688e+11</td>\n",
       "      <td>1.828787e+10</td>\n",
       "    </tr>\n",
       "    <tr>\n",
       "      <th>min</th>\n",
       "      <td>67.809000</td>\n",
       "      <td>7.713681e+08</td>\n",
       "      <td>0.000000e+00</td>\n",
       "    </tr>\n",
       "    <tr>\n",
       "      <th>25%</th>\n",
       "      <td>585.969150</td>\n",
       "      <td>7.846652e+09</td>\n",
       "      <td>2.035655e+08</td>\n",
       "    </tr>\n",
       "    <tr>\n",
       "      <th>50%</th>\n",
       "      <td>6842.038598</td>\n",
       "      <td>1.183888e+11</td>\n",
       "      <td>4.686095e+09</td>\n",
       "    </tr>\n",
       "    <tr>\n",
       "      <th>75%</th>\n",
       "      <td>21726.227787</td>\n",
       "      <td>4.175208e+11</td>\n",
       "      <td>2.423740e+10</td>\n",
       "    </tr>\n",
       "    <tr>\n",
       "      <th>max</th>\n",
       "      <td>73097.767027</td>\n",
       "      <td>1.436631e+12</td>\n",
       "      <td>1.788941e+11</td>\n",
       "    </tr>\n",
       "  </tbody>\n",
       "</table>\n",
       "</div>"
      ],
      "text/plain": [
       "              price    market_cap  total_volume\n",
       "count   3971.000000  3.971000e+03  3.971000e+03\n",
       "mean   13443.291219  2.519189e+11  1.448109e+10\n",
       "std    16533.602750  3.161688e+11  1.828787e+10\n",
       "min       67.809000  7.713681e+08  0.000000e+00\n",
       "25%      585.969150  7.846652e+09  2.035655e+08\n",
       "50%     6842.038598  1.183888e+11  4.686095e+09\n",
       "75%    21726.227787  4.175208e+11  2.423740e+10\n",
       "max    73097.767027  1.436631e+12  1.788941e+11"
      ]
     },
     "execution_count": 28,
     "metadata": {},
     "output_type": "execute_result"
    }
   ],
   "source": [
    "df.describe()"
   ]
  },
  {
   "cell_type": "code",
   "execution_count": 29,
   "metadata": {},
   "outputs": [
    {
     "data": {
      "text/plain": [
       "price           float64\n",
       "market_cap      float64\n",
       "total_volume    float64\n",
       "dtype: object"
      ]
     },
     "execution_count": 29,
     "metadata": {},
     "output_type": "execute_result"
    }
   ],
   "source": [
    "df.dtypes"
   ]
  },
  {
   "cell_type": "code",
   "execution_count": 33,
   "metadata": {},
   "outputs": [
    {
     "name": "stdout",
     "output_type": "stream",
     "text": [
      "135.300000      2\n",
      "638.070000      2\n",
      "131.650000      2\n",
      "11719.263524    1\n",
      "9535.938796     1\n",
      "               ..\n",
      "826.620768      1\n",
      "859.366300      1\n",
      "917.098800      1\n",
      "891.681300      1\n",
      "73097.767027    1\n",
      "Name: price, Length: 3968, dtype: int64\n"
     ]
    }
   ],
   "source": [
    "total_n_prices = df['price'].value_counts()\n",
    "\n",
    "print(total_n_prices)"
   ]
  },
  {
   "cell_type": "code",
   "execution_count": 34,
   "metadata": {},
   "outputs": [
    {
     "name": "stdout",
     "output_type": "stream",
     "text": [
      "<class 'pandas.core.frame.DataFrame'>\n",
      "Index: 3971 entries, 2013-04-28 00:00:00 UTC to 2024-03-14 00:00:00 UTC\n",
      "Data columns (total 3 columns):\n",
      " #   Column        Non-Null Count  Dtype  \n",
      "---  ------        --------------  -----  \n",
      " 0   price         3971 non-null   float64\n",
      " 1   market_cap    3971 non-null   float64\n",
      " 2   total_volume  3971 non-null   float64\n",
      "dtypes: float64(3)\n",
      "memory usage: 253.1+ KB\n"
     ]
    }
   ],
   "source": [
    "# database info\n",
    "df.info()"
   ]
  },
  {
   "cell_type": "code",
   "execution_count": 37,
   "metadata": {},
   "outputs": [
    {
     "data": {
      "text/html": [
       "<div>\n",
       "<style scoped>\n",
       "    .dataframe tbody tr th:only-of-type {\n",
       "        vertical-align: middle;\n",
       "    }\n",
       "\n",
       "    .dataframe tbody tr th {\n",
       "        vertical-align: top;\n",
       "    }\n",
       "\n",
       "    .dataframe thead th {\n",
       "        text-align: right;\n",
       "    }\n",
       "</style>\n",
       "<table border=\"1\" class=\"dataframe\">\n",
       "  <thead>\n",
       "    <tr style=\"text-align: right;\">\n",
       "      <th></th>\n",
       "      <th>price</th>\n",
       "      <th>market_cap</th>\n",
       "      <th>total_volume</th>\n",
       "    </tr>\n",
       "    <tr>\n",
       "      <th>snapped_at</th>\n",
       "      <th></th>\n",
       "      <th></th>\n",
       "      <th></th>\n",
       "    </tr>\n",
       "  </thead>\n",
       "  <tbody>\n",
       "    <tr>\n",
       "      <th>2013-04-28 00:00:00 UTC</th>\n",
       "      <td>135.30</td>\n",
       "      <td>1.500518e+09</td>\n",
       "      <td>0.0</td>\n",
       "    </tr>\n",
       "    <tr>\n",
       "      <th>2013-04-29 00:00:00 UTC</th>\n",
       "      <td>141.96</td>\n",
       "      <td>1.575032e+09</td>\n",
       "      <td>0.0</td>\n",
       "    </tr>\n",
       "    <tr>\n",
       "      <th>2013-04-30 00:00:00 UTC</th>\n",
       "      <td>135.30</td>\n",
       "      <td>1.501657e+09</td>\n",
       "      <td>0.0</td>\n",
       "    </tr>\n",
       "    <tr>\n",
       "      <th>2013-05-01 00:00:00 UTC</th>\n",
       "      <td>117.00</td>\n",
       "      <td>1.298952e+09</td>\n",
       "      <td>0.0</td>\n",
       "    </tr>\n",
       "    <tr>\n",
       "      <th>2013-05-02 00:00:00 UTC</th>\n",
       "      <td>103.43</td>\n",
       "      <td>1.148668e+09</td>\n",
       "      <td>0.0</td>\n",
       "    </tr>\n",
       "    <tr>\n",
       "      <th>2013-05-03 00:00:00 UTC</th>\n",
       "      <td>91.01</td>\n",
       "      <td>1.011066e+09</td>\n",
       "      <td>0.0</td>\n",
       "    </tr>\n",
       "    <tr>\n",
       "      <th>2013-05-04 00:00:00 UTC</th>\n",
       "      <td>111.25</td>\n",
       "      <td>1.236352e+09</td>\n",
       "      <td>0.0</td>\n",
       "    </tr>\n",
       "    <tr>\n",
       "      <th>2013-05-05 00:00:00 UTC</th>\n",
       "      <td>116.79</td>\n",
       "      <td>1.298378e+09</td>\n",
       "      <td>0.0</td>\n",
       "    </tr>\n",
       "    <tr>\n",
       "      <th>2013-05-06 00:00:00 UTC</th>\n",
       "      <td>118.33</td>\n",
       "      <td>1.315992e+09</td>\n",
       "      <td>0.0</td>\n",
       "    </tr>\n",
       "    <tr>\n",
       "      <th>2013-05-07 00:00:00 UTC</th>\n",
       "      <td>106.40</td>\n",
       "      <td>1.183766e+09</td>\n",
       "      <td>0.0</td>\n",
       "    </tr>\n",
       "  </tbody>\n",
       "</table>\n",
       "</div>"
      ],
      "text/plain": [
       "                          price    market_cap  total_volume\n",
       "snapped_at                                                 \n",
       "2013-04-28 00:00:00 UTC  135.30  1.500518e+09           0.0\n",
       "2013-04-29 00:00:00 UTC  141.96  1.575032e+09           0.0\n",
       "2013-04-30 00:00:00 UTC  135.30  1.501657e+09           0.0\n",
       "2013-05-01 00:00:00 UTC  117.00  1.298952e+09           0.0\n",
       "2013-05-02 00:00:00 UTC  103.43  1.148668e+09           0.0\n",
       "2013-05-03 00:00:00 UTC   91.01  1.011066e+09           0.0\n",
       "2013-05-04 00:00:00 UTC  111.25  1.236352e+09           0.0\n",
       "2013-05-05 00:00:00 UTC  116.79  1.298378e+09           0.0\n",
       "2013-05-06 00:00:00 UTC  118.33  1.315992e+09           0.0\n",
       "2013-05-07 00:00:00 UTC  106.40  1.183766e+09           0.0"
      ]
     },
     "execution_count": 37,
     "metadata": {},
     "output_type": "execute_result"
    }
   ],
   "source": [
    "# specific amount of head\n",
    "df.head(10)"
   ]
  },
  {
   "cell_type": "code",
   "execution_count": 36,
   "metadata": {},
   "outputs": [
    {
     "data": {
      "text/html": [
       "<div>\n",
       "<style scoped>\n",
       "    .dataframe tbody tr th:only-of-type {\n",
       "        vertical-align: middle;\n",
       "    }\n",
       "\n",
       "    .dataframe tbody tr th {\n",
       "        vertical-align: top;\n",
       "    }\n",
       "\n",
       "    .dataframe thead th {\n",
       "        text-align: right;\n",
       "    }\n",
       "</style>\n",
       "<table border=\"1\" class=\"dataframe\">\n",
       "  <thead>\n",
       "    <tr style=\"text-align: right;\">\n",
       "      <th></th>\n",
       "      <th>price</th>\n",
       "      <th>market_cap</th>\n",
       "      <th>total_volume</th>\n",
       "    </tr>\n",
       "    <tr>\n",
       "      <th>snapped_at</th>\n",
       "      <th></th>\n",
       "      <th></th>\n",
       "      <th></th>\n",
       "    </tr>\n",
       "  </thead>\n",
       "  <tbody>\n",
       "    <tr>\n",
       "      <th>2024-03-07 00:00:00 UTC</th>\n",
       "      <td>66145.919279</td>\n",
       "      <td>1.297846e+12</td>\n",
       "      <td>7.315191e+10</td>\n",
       "    </tr>\n",
       "    <tr>\n",
       "      <th>2024-03-08 00:00:00 UTC</th>\n",
       "      <td>66944.876391</td>\n",
       "      <td>1.317508e+12</td>\n",
       "      <td>4.885389e+10</td>\n",
       "    </tr>\n",
       "    <tr>\n",
       "      <th>2024-03-09 00:00:00 UTC</th>\n",
       "      <td>68315.251921</td>\n",
       "      <td>1.340971e+12</td>\n",
       "      <td>6.334659e+10</td>\n",
       "    </tr>\n",
       "    <tr>\n",
       "      <th>2024-03-10 00:00:00 UTC</th>\n",
       "      <td>68508.003963</td>\n",
       "      <td>1.346027e+12</td>\n",
       "      <td>2.135971e+10</td>\n",
       "    </tr>\n",
       "    <tr>\n",
       "      <th>2024-03-11 00:00:00 UTC</th>\n",
       "      <td>69075.666882</td>\n",
       "      <td>1.357390e+12</td>\n",
       "      <td>3.666054e+10</td>\n",
       "    </tr>\n",
       "    <tr>\n",
       "      <th>2024-03-12 00:00:00 UTC</th>\n",
       "      <td>72130.553008</td>\n",
       "      <td>1.417773e+12</td>\n",
       "      <td>6.665307e+10</td>\n",
       "    </tr>\n",
       "    <tr>\n",
       "      <th>2024-03-13 00:00:00 UTC</th>\n",
       "      <td>71467.173503</td>\n",
       "      <td>1.403693e+12</td>\n",
       "      <td>6.459934e+10</td>\n",
       "    </tr>\n",
       "    <tr>\n",
       "      <th>2024-03-14 00:00:00 UTC</th>\n",
       "      <td>73097.767027</td>\n",
       "      <td>1.436631e+12</td>\n",
       "      <td>5.190660e+10</td>\n",
       "    </tr>\n",
       "  </tbody>\n",
       "</table>\n",
       "</div>"
      ],
      "text/plain": [
       "                                price    market_cap  total_volume\n",
       "snapped_at                                                       \n",
       "2024-03-07 00:00:00 UTC  66145.919279  1.297846e+12  7.315191e+10\n",
       "2024-03-08 00:00:00 UTC  66944.876391  1.317508e+12  4.885389e+10\n",
       "2024-03-09 00:00:00 UTC  68315.251921  1.340971e+12  6.334659e+10\n",
       "2024-03-10 00:00:00 UTC  68508.003963  1.346027e+12  2.135971e+10\n",
       "2024-03-11 00:00:00 UTC  69075.666882  1.357390e+12  3.666054e+10\n",
       "2024-03-12 00:00:00 UTC  72130.553008  1.417773e+12  6.665307e+10\n",
       "2024-03-13 00:00:00 UTC  71467.173503  1.403693e+12  6.459934e+10\n",
       "2024-03-14 00:00:00 UTC  73097.767027  1.436631e+12  5.190660e+10"
      ]
     },
     "execution_count": 36,
     "metadata": {},
     "output_type": "execute_result"
    }
   ],
   "source": [
    "#specific amount of tail\n",
    "df.tail(8)"
   ]
  },
  {
   "cell_type": "markdown",
   "metadata": {},
   "source": [
    "## Feature Engineering"
   ]
  },
  {
   "cell_type": "code",
   "execution_count": 69,
   "metadata": {},
   "outputs": [
    {
     "name": "stdout",
     "output_type": "stream",
     "text": [
      "['0', '5000', '10000', '15000', '20000', '25000', '30000', '35000', '40000', '45000', '50000', '55000', '60000', '65000', '70000']\n",
      "{'0': 0, '5000': 5000, '10000': 10000, '15000': 15000, '20000': 20000, '25000': 25000, '30000': 30000, '35000': 35000, '40000': 40000, '45000': 45000, '50000': 50000, '55000': 55000, '60000': 60000, '65000': 65000, '70000': 70000, '75000': 75000}\n",
      "0        1762\n",
      "5000      717\n",
      "10000     238\n",
      "25000     217\n",
      "15000     191\n",
      "20000     165\n",
      "40000     151\n",
      "35000     140\n",
      "30000     110\n",
      "45000     105\n",
      "55000      66\n",
      "50000      54\n",
      "60000      40\n",
      "65000      12\n",
      "70000       3\n",
      "Name: value, dtype: int64\n"
     ]
    }
   ],
   "source": [
    "import pandas as pd\n",
    "\n",
    "t_value = 5000\n",
    "# Deriving a new feature based on price\n",
    "values = {}\n",
    "for x in range(0, 16):  # Adjust range to include all values\n",
    "    values[\"{0}\".format(x*t_value)] = x * t_value\n",
    "\n",
    "# Calculate labels\n",
    "labels = [f\"{x*t_value}\" for x in range(15)]\n",
    "\n",
    "print(labels)\n",
    "print(values)\n",
    "\n",
    "# Assuming df['price'] is your DataFrame column containing prices\n",
    "df['value'] = pd.cut(df['price'], bins=list(values.values()), labels=labels, include_lowest=True, right=False)\n",
    "\n",
    "# Count the values\n",
    "value_counts = df['value'].value_counts()\n",
    "\n",
    "print(value_counts)\n"
   ]
  },
  {
   "cell_type": "code",
   "execution_count": 59,
   "metadata": {},
   "outputs": [
    {
     "name": "stdout",
     "output_type": "stream",
     "text": [
      "value14\n",
      "{'value0': 0, 'value1': 5000, 'value2': 10000, 'value3': 15000, 'value4': 20000, 'value5': 25000, 'value6': 30000, 'value7': 35000, 'value8': 40000, 'value9': 45000, 'value10': 50000, 'value11': 55000, 'value12': 60000, 'value13': 65000, 'value14': 70000}\n"
     ]
    }
   ],
   "source": []
  },
  {
   "cell_type": "code",
   "execution_count": 70,
   "metadata": {},
   "outputs": [
    {
     "data": {
      "image/png": "[encoded data removed]",
      "text/plain": [
       "<Figure size 1500x800 with 1 Axes>"
      ]
     },
     "metadata": {},
     "output_type": "display_data"
    }
   ],
   "source": [
    "# Increase figure size\n",
    "plt.figure(figsize=(15, 8))\n",
    "\n",
    "plt.bar(value_counts.index , value_counts.values , color =['darkred','red','darkorange','orange','yellow','darkgreen','green','lightgreen','cyan','teal','blue','darkblue'])\n",
    "plt.xlabel('Value ($)')\n",
    "plt.ylabel('Count')\n",
    "plt.title('distribution of bitcoin value between 2014-2024')\n",
    "plt.show()"
   ]
  },
  {
   "cell_type": "code",
   "execution_count": 71,
   "metadata": {},
   "outputs": [
    {
     "data": {
      "text/html": [
       "<div>\n",
       "<style scoped>\n",
       "    .dataframe tbody tr th:only-of-type {\n",
       "        vertical-align: middle;\n",
       "    }\n",
       "\n",
       "    .dataframe tbody tr th {\n",
       "        vertical-align: top;\n",
       "    }\n",
       "\n",
       "    .dataframe thead th {\n",
       "        text-align: right;\n",
       "    }\n",
       "</style>\n",
       "<table border=\"1\" class=\"dataframe\">\n",
       "  <thead>\n",
       "    <tr style=\"text-align: right;\">\n",
       "      <th></th>\n",
       "      <th>price</th>\n",
       "      <th>market_cap</th>\n",
       "      <th>total_volume</th>\n",
       "      <th>value</th>\n",
       "    </tr>\n",
       "    <tr>\n",
       "      <th>snapped_at</th>\n",
       "      <th></th>\n",
       "      <th></th>\n",
       "      <th></th>\n",
       "      <th></th>\n",
       "    </tr>\n",
       "  </thead>\n",
       "  <tbody>\n",
       "    <tr>\n",
       "      <th>2013-04-28 00:00:00 UTC</th>\n",
       "      <td>135.30</td>\n",
       "      <td>1.500518e+09</td>\n",
       "      <td>0.0</td>\n",
       "      <td>0</td>\n",
       "    </tr>\n",
       "    <tr>\n",
       "      <th>2013-04-29 00:00:00 UTC</th>\n",
       "      <td>141.96</td>\n",
       "      <td>1.575032e+09</td>\n",
       "      <td>0.0</td>\n",
       "      <td>0</td>\n",
       "    </tr>\n",
       "    <tr>\n",
       "      <th>2013-04-30 00:00:00 UTC</th>\n",
       "      <td>135.30</td>\n",
       "      <td>1.501657e+09</td>\n",
       "      <td>0.0</td>\n",
       "      <td>0</td>\n",
       "    </tr>\n",
       "    <tr>\n",
       "      <th>2013-05-01 00:00:00 UTC</th>\n",
       "      <td>117.00</td>\n",
       "      <td>1.298952e+09</td>\n",
       "      <td>0.0</td>\n",
       "      <td>0</td>\n",
       "    </tr>\n",
       "    <tr>\n",
       "      <th>2013-05-02 00:00:00 UTC</th>\n",
       "      <td>103.43</td>\n",
       "      <td>1.148668e+09</td>\n",
       "      <td>0.0</td>\n",
       "      <td>0</td>\n",
       "    </tr>\n",
       "  </tbody>\n",
       "</table>\n",
       "</div>"
      ],
      "text/plain": [
       "                          price    market_cap  total_volume value\n",
       "snapped_at                                                       \n",
       "2013-04-28 00:00:00 UTC  135.30  1.500518e+09           0.0     0\n",
       "2013-04-29 00:00:00 UTC  141.96  1.575032e+09           0.0     0\n",
       "2013-04-30 00:00:00 UTC  135.30  1.501657e+09           0.0     0\n",
       "2013-05-01 00:00:00 UTC  117.00  1.298952e+09           0.0     0\n",
       "2013-05-02 00:00:00 UTC  103.43  1.148668e+09           0.0     0"
      ]
     },
     "execution_count": 71,
     "metadata": {},
     "output_type": "execute_result"
    }
   ],
   "source": [
    "df.head()"
   ]
  },
  {
   "cell_type": "code",
   "execution_count": 79,
   "metadata": {},
   "outputs": [
    {
     "data": {
      "image/png": "[encoded data removed]",
      "text/plain": [
       "<Figure size 1200x600 with 1 Axes>"
      ]
     },
     "metadata": {},
     "output_type": "display_data"
    }
   ],
   "source": [
    "import seaborn as sns\n",
    "df2 = pd.read_csv(r'./btc-usd-max.csv')\n",
    "# Set seaborn style\n",
    "sns.set_style(\"darkgrid\")\n",
    "\n",
    "# Adjust figure size\n",
    "plt.figure(figsize=(12, 6))\n",
    "\n",
    "# Plot the data\n",
    "plt.plot(df2['snapped_at'], df2['price'], color='blue', linewidth=2)\n",
    "\n",
    "# Add labels and title\n",
    "plt.xlabel('Date', fontsize=14)\n",
    "plt.ylabel('Price ($)', fontsize=14)\n",
    "plt.title('Bitcoin Price Change Over Time', fontsize=16)\n",
    "\n",
    "# Adjust tick labels\n",
    "plt.xticks(fontsize=10)\n",
    "plt.yticks(fontsize=10)\n",
    "\n",
    "# Add gridlines\n",
    "plt.grid(True)\n",
    "\n",
    "# Show the plot\n",
    "plt.tight_layout()\n",
    "plt.show()\n",
    "\n"
   ]
  },
  {
   "cell_type": "code",
   "execution_count": null,
   "metadata": {},
   "outputs": [],
   "source": []
  }
 ],
 "metadata": {
  "kernelspec": {
   "display_name": "base",
   "language": "python",
   "name": "python3"
  },
  "language_info": {
   "codemirror_mode": {
    "name": "ipython",
    "version": 3
   },
   "file_extension": ".py",
   "mimetype": "text/x-python",
   "name": "python",
   "nbconvert_exporter": "python",
   "pygments_lexer": "ipython3",
   "version": "3.10.9"
  }
 },
 "nbformat": 4,
 "nbformat_minor": 2
}
