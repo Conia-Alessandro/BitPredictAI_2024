{
 "cells": [
  {
   "cell_type": "code",
   "execution_count": 1,
   "metadata": {},
   "outputs": [],
   "source": [
    "# library requirement\n",
    "import pandas as pd"
   ]
  },
  {
   "cell_type": "code",
   "execution_count": 2,
   "metadata": {},
   "outputs": [],
   "source": [
    "# library for date manipulation\n",
    "from datetime import timedelta"
   ]
  },
  {
   "cell_type": "code",
   "execution_count": 4,
   "metadata": {},
   "outputs": [],
   "source": [
    "# data path\n",
    "data_path =\"btc-usd-max.csv\""
   ]
  },
  {
   "cell_type": "code",
   "execution_count": 5,
   "metadata": {},
   "outputs": [],
   "source": [
    "df = pd.read_csv(data_path, parse_dates=['snapped_at'])"
   ]
  },
  {
   "cell_type": "code",
   "execution_count": 8,
   "metadata": {},
   "outputs": [],
   "source": [
    "# sample start dates to test function\n",
    "start_dates = ['2016-07-10', '2016-10-10', '2017-01-10']"
   ]
  },
  {
   "cell_type": "code",
   "execution_count": 12,
   "metadata": {},
   "outputs": [],
   "source": [
    "# convert from timezone aware to timezone-naive:\n",
    "df['snapped_at'] = df['snapped_at'].dt.tz_localize(None)"
   ]
  },
  {
   "cell_type": "code",
   "execution_count": 9,
   "metadata": {},
   "outputs": [],
   "source": [
    "# set duration of events of 2 months\n",
    "duration = timedelta(days=60) "
   ]
  },
  {
   "cell_type": "code",
   "execution_count": 14,
   "metadata": {},
   "outputs": [],
   "source": [
    "# Process each start date\n",
    "\n",
    "for start_date in start_dates:\n",
    "    # get the start date in the database\n",
    "    start_date = pd.to_datetime(start_date)\n",
    "    end_date = start_date + duration\n",
    "\n",
    "    # Set the columns to 0 for the date range\n",
    "    mask = (df[\"snapped_at\"] >= start_date ) & (df[\"snapped_at\"] <= end_date)\n",
    "    df.loc[mask, [\"price\",\"market_cap\",\"total_volume\"]] = 0\n",
    "\n",
    "# If we need to save into modified csv \n",
    "\n",
    "df.to_csv(\"modified_btc-usd-max.csv\", index=False)"
   ]
  },
  {
   "cell_type": "code",
   "execution_count": 16,
   "metadata": {},
   "outputs": [
    {
     "name": "stdout",
     "output_type": "stream",
     "text": [
      "   snapped_at    price    market_cap  total_volume\n",
      "0  2013-04-28  135.300  1.500518e+09           0.0\n",
      "1  2013-04-29  141.960  1.575032e+09           0.0\n",
      "2  2013-04-30  135.300  1.501657e+09           0.0\n",
      "3  2013-05-01  117.000  1.298952e+09           0.0\n",
      "4  2013-05-02  103.430  1.148668e+09           0.0\n",
      "5  2013-05-03   91.010  1.011066e+09           0.0\n",
      "6  2013-05-04  111.250  1.236352e+09           0.0\n",
      "7  2013-05-05  116.790  1.298378e+09           0.0\n",
      "8  2013-05-06  118.330  1.315992e+09           0.0\n",
      "9  2013-05-07  106.400  1.183766e+09           0.0\n",
      "10 2013-05-08  112.640  1.253655e+09           0.0\n",
      "11 2013-05-09  113.000  1.258131e+09           0.0\n",
      "12 2013-05-10  118.780  1.322989e+09           0.0\n",
      "13 2013-05-11  113.010  1.259239e+09           0.0\n",
      "14 2013-05-12  114.713  1.278709e+09           0.0\n",
      "15 2013-05-13  117.180  1.306721e+09           0.0\n",
      "16 2013-05-14  114.500  1.277279e+09           0.0\n",
      "17 2013-05-15  114.156  1.273850e+09           0.0\n",
      "18 2013-05-16  115.500  1.289277e+09           0.0\n",
      "19 2013-05-17  123.100  1.374605e+09           0.0\n",
      "20 2013-05-18  123.880  1.383755e+09           0.0\n",
      "21 2013-05-19  120.501  1.346499e+09           0.0\n",
      "22 2013-05-20  122.580  1.370132e+09           0.0\n",
      "23 2013-05-21  122.900  1.374154e+09           0.0\n",
      "24 2013-05-22  123.000  1.375792e+09           0.0\n",
      "25 2013-05-23  125.748  1.407042e+09           0.0\n",
      "26 2013-05-24  131.700  1.474181e+09           0.0\n",
      "27 2013-05-25  130.770  1.464317e+09           0.0\n",
      "28 2013-05-26  134.600  1.507769e+09           0.0\n",
      "29 2013-05-27  128.985  1.445445e+09           0.0\n"
     ]
    }
   ],
   "source": [
    "#print modified Dataframe\n",
    "print(df.head(30))"
   ]
  }
 ],
 "metadata": {
  "kernelspec": {
   "display_name": "Python 3 (ipykernel)",
   "language": "python",
   "name": "python3"
  },
  "language_info": {
   "codemirror_mode": {
    "name": "ipython",
    "version": 3
   },
   "file_extension": ".py",
   "mimetype": "text/x-python",
   "name": "python",
   "nbconvert_exporter": "python",
   "pygments_lexer": "ipython3",
   "version": "3.10.9"
  }
 },
 "nbformat": 4,
 "nbformat_minor": 2
}
