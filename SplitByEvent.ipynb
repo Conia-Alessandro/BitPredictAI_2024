{
 "cells": [
  {
   "cell_type": "code",
   "execution_count": 29,
   "metadata": {},
   "outputs": [],
   "source": [
    "import pandas as pd"
   ]
  },
  {
   "cell_type": "code",
   "execution_count": 30,
   "metadata": {},
   "outputs": [],
   "source": [
    "# library for date manipulation\n",
    "from datetime import timedelta"
   ]
  },
  {
   "cell_type": "code",
   "execution_count": 31,
   "metadata": {},
   "outputs": [],
   "source": [
    "# data path\n",
    "data_path =\"btc-usd-max.csv\""
   ]
  },
  {
   "cell_type": "code",
   "execution_count": 32,
   "metadata": {},
   "outputs": [],
   "source": [
    "df = pd.read_csv(data_path, parse_dates=['snapped_at'])"
   ]
  },
  {
   "cell_type": "code",
   "execution_count": 33,
   "metadata": {},
   "outputs": [],
   "source": [
    "df['snapped_at'] = df['snapped_at'].dt.tz_localize(None)  # Ensure timezone-naive"
   ]
  },
  {
   "cell_type": "code",
   "execution_count": 34,
   "metadata": {},
   "outputs": [],
   "source": [
    "events = {\n",
    "    \"China Regulations over Chinese Bitcoin Exchanges\": {\n",
    "        \"startDate\": \"2017-01-02\",\n",
    "        \"endDate\": \"2017-01-10\"\n",
    "    },\n",
    "    \"SEC Denial of BTC ETF\": {\n",
    "        \"startDate\": \"2017-02-01\",\n",
    "        \"endDate\": \"2017-03-25\"\n",
    "    },\n",
    "    \"Possible market manipulation by Tether + FOMO\": {\n",
    "        \"startDate\": \"2017-06-01\",\n",
    "        \"endDate\": \"2017-12-15\"\n",
    "    },\n",
    "    \"Introduction of Bitcoin Futures and Regulations\": {\n",
    "        \"startDate\": \"2017-12-31\",  \n",
    "        \"endDate\": \"2018-03-01\"    \n",
    "    },\n",
    "    \"Market Cap Falls Below 100 Billion Dollars\": {\n",
    "        \"startDate\": \"2018-11-01\",\n",
    "        \"endDate\": \"2018-12-01\"\n",
    "    },\n",
    "    \"Crypto Exchanges Launches and FOMO\": {\n",
    "        \"startDate\": \"2019-04-01\",\n",
    "        \"endDate\": \"2019-08-01\"\n",
    "    },\n",
    "    \"Covid Pandemic Impact on Crypto\": {\n",
    "        \"startDate\": \"2020-03-01\",\n",
    "        \"endDate\": \"2020-04-15\"\n",
    "    },\n",
    "    \"Stock Market Rally and Crypto Adoption Surge\": {\n",
    "        \"startDate\": \"2020-10-01\",\n",
    "        \"endDate\": \"2021-04-01\"\n",
    "    },\n",
    "    \"Tesla and China Affect on Crypto\": {\n",
    "        \"startDate\": \"2021-05-01\",\n",
    "        \"endDate\": \"2021-07-01\"\n",
    "    },\n",
    "    \"Elon musk talks with Leading Crypto companies for more sustainable cryptomining\":{\n",
    "        \"startDate\": \"2021-07-01\",\n",
    "        \"endDate\": \"2021-11-15\"\n",
    "    },\n",
    "    \"Market Correction\":{\n",
    "        \"startDate\": \"2021-11-15\",\n",
    "        \"endDate\":\"2022-01-20\"\n",
    "    },\n",
    "    \"Russia Invades Ukraine\":{\n",
    "        \"startDate\": \"2022-02-24\",\n",
    "        \"endDate\": \"2022-03-31\"\n",
    "    },\n",
    "    \"SEC Announces crypto regulation, crypto exchanges layoffs, interests rates rise, Coinbase stocks drop\":{\n",
    "        \"startDate\": \"2022-04-01\",\n",
    "        \"endDate\":\"2022-06-01\"\n",
    "    },\n",
    "    \"FTX currency crashes and FTX declares bankruptcy\":{\n",
    "        \"startDate\": \"2022-11-04\",\n",
    "        \"endDate\": \"2022-12-01\"\n",
    "    },\n",
    "    \"Shares in Silvergate Capital, SEC freezes BKCoin transactions and accuses fraud\":{\n",
    "        \"startDate\": \"2023-03-01\",\n",
    "        \"endDate\": \"2023-03-12\"\n",
    "    },\n",
    "    \"Israel attack on Gaza\":{\n",
    "        \"startDate\":\"2023-10-07\",\n",
    "        \"endDate\": \"2023-10-14\"\n",
    "    }\n",
    "}\n"
   ]
  },
  {
   "cell_type": "code",
   "execution_count": 35,
   "metadata": {},
   "outputs": [],
   "source": [
    "# Process each event\n",
    "for event, details in events.items():\n",
    "    start_date = pd.to_datetime(details[\"startDate\"])\n",
    "    \n",
    "    # Determine the end date based on provided data\n",
    "    if 'endDate' in details and details['endDate']:\n",
    "        end_date = pd.to_datetime(details['endDate'])\n",
    "        if 'duration' not in details or not details['duration']:  # Calculate duration if not provided\n",
    "            details['duration'] = (end_date - start_date).days\n",
    "    else:\n",
    "        if 'duration' in details and details['duration']:\n",
    "            duration = timedelta(days=details['duration'])\n",
    "            end_date = start_date + duration\n",
    "            details['endDate'] = end_date  # Store computed end date\n",
    "        else:\n",
    "            raise ValueError(\"Either duration or endDate must be provided for each event.\")\n",
    "\n",
    "    # Set the specific columns to 0 for the date range\n",
    "    mask = (df['snapped_at'] >= start_date) & (df['snapped_at'] <= end_date)\n",
    "    df.loc[mask, ['price', 'market_cap', 'total_volume']] = \"\"\n",
    "\n",
    "# Optionally, save the modified DataFrame back to a CSV\n",
    "df.to_csv('modified_btc-usd-max.csv', index=False)"
   ]
  },
  {
   "cell_type": "code",
   "execution_count": null,
   "metadata": {},
   "outputs": [],
   "source": []
  }
 ],
 "metadata": {
  "kernelspec": {
   "display_name": "Python 3 (ipykernel)",
   "language": "python",
   "name": "python3"
  },
  "language_info": {
   "codemirror_mode": {
    "name": "ipython",
    "version": 3
   },
   "file_extension": ".py",
   "mimetype": "text/x-python",
   "name": "python",
   "nbconvert_exporter": "python",
   "pygments_lexer": "ipython3",
   "version": "3.10.9"
  }
 },
 "nbformat": 4,
 "nbformat_minor": 2
}
