{
 "cells": [
  {
   "cell_type": "code",
   "execution_count": 2,
   "metadata": {},
   "outputs": [],
   "source": [
    "import pandas as pd\n"
   ]
  },
  {
   "cell_type": "code",
   "execution_count": 3,
   "metadata": {},
   "outputs": [],
   "source": [
    "df = pd.read_csv('modified_btc-usd-max (1).csv')\n",
    "bf = pd.read_csv(\"btc-usd-max-EDITED-FOR-2018NOV.csv\")\n"
   ]
  },
  {
   "cell_type": "code",
   "execution_count": 4,
   "metadata": {},
   "outputs": [
    {
     "name": "stderr",
     "output_type": "stream",
     "text": [
      "C:\\Users\\Daan\\AppData\\Local\\Temp\\ipykernel_28428\\1145945141.py:1: FutureWarning: DataFrame.interpolate with object dtype is deprecated and will raise in a future version. Call obj.infer_objects(copy=False) before interpolating instead.\n",
      "  df = df.interpolate(method ='linear', limit_direction ='forward')\n"
     ]
    }
   ],
   "source": [
    "df = df.interpolate(method ='linear', limit_direction ='forward') "
   ]
  },
  {
   "cell_type": "code",
   "execution_count": 5,
   "metadata": {},
   "outputs": [],
   "source": [
    "df.to_csv(\"LINEAR_INTERPOLATION_MID_CSV.csv\", sep=',', index=False, encoding='utf-8')"
   ]
  },
  {
   "cell_type": "code",
   "execution_count": null,
   "metadata": {},
   "outputs": [],
   "source": []
  },
  {
   "cell_type": "code",
   "execution_count": 13,
   "metadata": {},
   "outputs": [
    {
     "name": "stdout",
     "output_type": "stream",
     "text": [
      "                   snapped_at  price  market_cap  total_volume\n",
      "2018  2018-11-08 00:00:00 UTC    NaN         NaN           NaN\n",
      "                   snapped_at  price  market_cap  total_volume\n",
      "2019  2018-11-09 00:00:00 UTC    NaN         NaN           NaN\n",
      "                   snapped_at  price  market_cap  total_volume\n",
      "2020  2018-11-10 00:00:00 UTC    NaN         NaN           NaN\n",
      "                   snapped_at  price  market_cap  total_volume\n",
      "2021  2018-11-11 00:00:00 UTC    NaN         NaN           NaN\n",
      "                   snapped_at  price  market_cap  total_volume\n",
      "2022  2018-11-12 00:00:00 UTC    NaN         NaN           NaN\n",
      "                   snapped_at  price  market_cap  total_volume\n",
      "2023  2018-11-13 00:00:00 UTC    NaN         NaN           NaN\n",
      "                   snapped_at  price  market_cap  total_volume\n",
      "2024  2018-11-14 00:00:00 UTC    NaN         NaN           NaN\n",
      "                   snapped_at  price  market_cap  total_volume\n",
      "2025  2018-11-15 00:00:00 UTC    NaN         NaN           NaN\n",
      "                   snapped_at  price  market_cap  total_volume\n",
      "2026  2018-11-16 00:00:00 UTC    NaN         NaN           NaN\n",
      "                   snapped_at  price  market_cap  total_volume\n",
      "2027  2018-11-17 00:00:00 UTC    NaN         NaN           NaN\n",
      "                   snapped_at  price  market_cap  total_volume\n",
      "2028  2018-11-18 00:00:00 UTC    NaN         NaN           NaN\n",
      "                   snapped_at  price  market_cap  total_volume\n",
      "2029  2018-11-19 00:00:00 UTC    NaN         NaN           NaN\n",
      "                   snapped_at  price  market_cap  total_volume\n",
      "2030  2018-11-20 00:00:00 UTC    NaN         NaN           NaN\n",
      "                   snapped_at  price  market_cap  total_volume\n",
      "2031  2018-11-21 00:00:00 UTC    NaN         NaN           NaN\n",
      "                   snapped_at  price  market_cap  total_volume\n",
      "2032  2018-11-22 00:00:00 UTC    NaN         NaN           NaN\n",
      "                   snapped_at  price  market_cap  total_volume\n",
      "2033  2018-11-23 00:00:00 UTC    NaN         NaN           NaN\n",
      "                   snapped_at  price  market_cap  total_volume\n",
      "2034  2018-11-24 00:00:00 UTC    NaN         NaN           NaN\n",
      "                   snapped_at  price  market_cap  total_volume\n",
      "2035  2018-11-25 00:00:00 UTC    NaN         NaN           NaN\n",
      "                   snapped_at  price  market_cap  total_volume\n",
      "2036  2018-11-26 00:00:00 UTC    NaN         NaN           NaN\n",
      "                   snapped_at  price  market_cap  total_volume\n",
      "2037  2018-11-27 00:00:00 UTC    NaN         NaN           NaN\n",
      "                   snapped_at  price  market_cap  total_volume\n",
      "2038  2018-11-28 00:00:00 UTC    NaN         NaN           NaN\n",
      "                   snapped_at  price  market_cap  total_volume\n",
      "2039  2018-11-29 00:00:00 UTC    NaN         NaN           NaN\n",
      "                   snapped_at  price  market_cap  total_volume\n",
      "2040  2018-11-30 00:00:00 UTC    NaN         NaN           NaN\n",
      "                   snapped_at  price  market_cap  total_volume\n",
      "2041  2018-12-01 00:00:00 UTC    NaN         NaN           NaN\n",
      "                   snapped_at  price  market_cap  total_volume\n",
      "2042  2018-12-02 00:00:00 UTC    NaN         NaN           NaN\n",
      "                   snapped_at  price  market_cap  total_volume\n",
      "2043  2018-12-03 00:00:00 UTC    NaN         NaN           NaN\n",
      "                   snapped_at  price  market_cap  total_volume\n",
      "2044  2018-12-04 00:00:00 UTC    NaN         NaN           NaN\n",
      "                   snapped_at  price  market_cap  total_volume\n",
      "2045  2018-12-05 00:00:00 UTC    NaN         NaN           NaN\n",
      "                   snapped_at  price  market_cap  total_volume\n",
      "2046  2018-12-06 00:00:00 UTC    NaN         NaN           NaN\n",
      "                   snapped_at  price  market_cap  total_volume\n",
      "2047  2018-12-07 00:00:00 UTC    NaN         NaN           NaN\n",
      "                   snapped_at  price  market_cap  total_volume\n",
      "2048  2018-12-08 00:00:00 UTC    NaN         NaN           NaN\n",
      "                   snapped_at  price  market_cap  total_volume\n",
      "2049  2018-12-09 00:00:00 UTC    NaN         NaN           NaN\n",
      "                   snapped_at  price  market_cap  total_volume\n",
      "2050  2018-12-10 00:00:00 UTC    NaN         NaN           NaN\n",
      "                   snapped_at  price  market_cap  total_volume\n",
      "2051  2018-12-11 00:00:00 UTC    NaN         NaN           NaN\n",
      "                   snapped_at  price  market_cap  total_volume\n",
      "2052  2018-12-12 00:00:00 UTC    NaN         NaN           NaN\n",
      "                   snapped_at  price  market_cap  total_volume\n",
      "2053  2018-12-13 00:00:00 UTC    NaN         NaN           NaN\n",
      "                   snapped_at  price  market_cap  total_volume\n",
      "2054  2018-12-14 00:00:00 UTC    NaN         NaN           NaN\n",
      "                   snapped_at  price  market_cap  total_volume\n",
      "2055  2018-12-15 00:00:00 UTC    NaN         NaN           NaN\n",
      "                   snapped_at  price  market_cap  total_volume\n",
      "2056  2018-12-16 00:00:00 UTC    NaN         NaN           NaN\n",
      "                   snapped_at  price  market_cap  total_volume\n",
      "2057  2018-12-17 00:00:00 UTC    NaN         NaN           NaN\n",
      "                   snapped_at  price  market_cap  total_volume\n",
      "2058  2018-12-18 00:00:00 UTC    NaN         NaN           NaN\n",
      "                   snapped_at  price  market_cap  total_volume\n",
      "2059  2018-12-19 00:00:00 UTC    NaN         NaN           NaN\n",
      "                   snapped_at  price  market_cap  total_volume\n",
      "2060  2018-12-20 00:00:00 UTC    NaN         NaN           NaN\n",
      "                   snapped_at  price  market_cap  total_volume\n",
      "2061  2018-12-21 00:00:00 UTC    NaN         NaN           NaN\n",
      "                   snapped_at  price  market_cap  total_volume\n",
      "2062  2018-12-22 00:00:00 UTC    NaN         NaN           NaN\n",
      "                   snapped_at  price  market_cap  total_volume\n",
      "2063  2018-12-23 00:00:00 UTC    NaN         NaN           NaN\n",
      "                   snapped_at  price  market_cap  total_volume\n",
      "2064  2018-12-24 00:00:00 UTC    NaN         NaN           NaN\n",
      "                   snapped_at  price  market_cap  total_volume\n",
      "2065  2018-12-25 00:00:00 UTC    NaN         NaN           NaN\n",
      "                   snapped_at  price  market_cap  total_volume\n",
      "2066  2018-12-26 00:00:00 UTC    NaN         NaN           NaN\n",
      "                   snapped_at  price  market_cap  total_volume\n",
      "2067  2018-12-27 00:00:00 UTC    NaN         NaN           NaN\n",
      "                   snapped_at  price  market_cap  total_volume\n",
      "2068  2018-12-28 00:00:00 UTC    NaN         NaN           NaN\n",
      "                   snapped_at  price  market_cap  total_volume\n",
      "2069  2018-12-29 00:00:00 UTC    NaN         NaN           NaN\n",
      "                   snapped_at  price  market_cap  total_volume\n",
      "2070  2018-12-30 00:00:00 UTC    NaN         NaN           NaN\n",
      "                   snapped_at  price  market_cap  total_volume\n",
      "2071  2018-12-31 00:00:00 UTC    NaN         NaN           NaN\n",
      "                   snapped_at        price    market_cap  total_volume\n",
      "2072  2019-01-01 00:00:00 UTC  3692.531566  6.442264e+10  2.991428e+09\n",
      "                   snapped_at        price    market_cap  total_volume\n",
      "2073  2019-01-02 00:00:00 UTC  3794.264254  6.618845e+10  2.689878e+09\n",
      "                   snapped_at        price    market_cap  total_volume\n",
      "2074  2019-01-03 00:00:00 UTC  3872.172184  6.764330e+10  3.263469e+09\n"
     ]
    }
   ],
   "source": [
    "\n"
   ]
  }
 ],
 "metadata": {
  "kernelspec": {
   "display_name": "base",
   "language": "python",
   "name": "python3"
  },
  "language_info": {
   "codemirror_mode": {
    "name": "ipython",
    "version": 3
   },
   "file_extension": ".py",
   "mimetype": "text/x-python",
   "name": "python",
   "nbconvert_exporter": "python",
   "pygments_lexer": "ipython3",
   "version": "3.11.7"
  }
 },
 "nbformat": 4,
 "nbformat_minor": 2
}
