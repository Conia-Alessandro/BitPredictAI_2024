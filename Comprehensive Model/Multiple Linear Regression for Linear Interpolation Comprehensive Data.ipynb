{
 "cells": [
  {
   "cell_type": "code",
   "execution_count": 5,
   "metadata": {},
   "outputs": [
    {
     "name": "stdout",
     "output_type": "stream",
     "text": [
      "Metrics for Validation Set:\n",
      "R squared: 99.93\n",
      "Mean Absolute Error: 278.1223797873731\n",
      "Mean Square Error: 171251.2735506616\n",
      "Root Mean Square Error: 413.82517268849364\n"
     ]
    }
   ],
   "source": [
    "import pandas as pd\n",
    "import numpy as np\n",
    "from sklearn.model_selection import train_test_split\n",
    "from sklearn.linear_model import LinearRegression\n",
    "from sklearn import metrics\n",
    "\n",
    "# Read the dataset\n",
    "dataset = pd.read_csv(\"linear_interpolation_comp.csv\")\n",
    "\n",
    "# Convert 'snapped_at' column to datetime\n",
    "dataset['snapped_at'] = pd.to_datetime(dataset['snapped_at'])\n",
    "\n",
    "# Convert 'snapped_at' to days since the minimum date\n",
    "dataset['snapped_at'] = (dataset['snapped_at'] - dataset['snapped_at'].min()) / np.timedelta64(1, 'D')\n",
    "\n",
    "# Split features and target variable\n",
    "X = dataset[['snapped_at', 'market_cap', 'total_volume']]\n",
    "y = dataset['price']\n",
    "\n",
    "# Split the data into training and testing sets (70% training, 30% testing)\n",
    "X_train, X_test, y_train, y_test = train_test_split(X, y, train_size=0.7, test_size=0.3, random_state=100)\n",
    "\n",
    "# Split the remaining data (30%) into validation and testing sets (50% each)\n",
    "X_val, X_test, y_val, y_test = train_test_split(X_test, y_test, test_size=0.5, random_state=100)\n",
    "\n",
    "# Fit the Multiple Linear Regression model\n",
    "mlr = LinearRegression()\n",
    "mlr.fit(X_train, y_train)\n",
    "\n",
    "# Prediction on validation set\n",
    "y_pred_val = mlr.predict(X_val)\n",
    "\n",
    "# Prediction on test set\n",
    "y_pred_test = mlr.predict(X_test)\n",
    "\n",
    "# Print metrics for validation set\n",
    "print(\"Metrics for Validation Set:\")\n",
    "print('R squared: {:.2f}'.format(mlr.score(X_val, y_val) * 100))\n",
    "print('Mean Absolute Error:', metrics.mean_absolute_error(y_val, y_pred_val))\n",
    "print('Mean Square Error:', metrics.mean_squared_error(y_val, y_pred_val))\n",
    "print('Root Mean Square Error:', np.sqrt(metrics.mean_squared_error(y_val, y_pred_val)))\n"
   ]
  }
 ],
 "metadata": {
  "kernelspec": {
   "display_name": "base",
   "language": "python",
   "name": "python3"
  },
  "language_info": {
   "codemirror_mode": {
    "name": "ipython",
    "version": 3
   },
   "file_extension": ".py",
   "mimetype": "text/x-python",
   "name": "python",
   "nbconvert_exporter": "python",
   "pygments_lexer": "ipython3",
   "version": "3.11.7"
  }
 },
 "nbformat": 4,
 "nbformat_minor": 2
}
